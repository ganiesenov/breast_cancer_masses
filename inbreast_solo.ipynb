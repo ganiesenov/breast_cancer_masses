{
 "cells": [
  {
   "cell_type": "code",
   "execution_count": null,
   "metadata": {},
   "outputs": [],
   "source": [
    "import numpy as np \n",
    "import pandas as pd\n",
    "import matplotlib.pyplot as plt \n"
   ]
  },
  {
   "cell_type": "code",
   "execution_count": 1,
   "metadata": {},
   "outputs": [
    {
     "name": "stdout",
     "output_type": "stream",
     "text": [
      "Распределение классов:\n",
      "Класс 0: 94 образцов (92.16%)\n",
      "Класс 1: 7 образцов (6.86%)\n",
      "Класс 2: 1 образцов (0.98%)\n",
      "\n",
      "Всего образцов: 102\n",
      "Количество уникальных классов: 3\n",
      "\n",
      "Соотношение наибольшего класса к наименьшему: 94.00:1\n"
     ]
    }
   ],
   "source": [
    "import os\n",
    "import numpy as np\n",
    "from collections import Counter\n",
    "\n",
    "def analyze_labels(labels_dir):\n",
    "    # Список для хранения всех меток\n",
    "    all_labels = []\n",
    "    \n",
    "    # Проходим по всем файлам в директории\n",
    "    for filename in os.listdir(labels_dir):\n",
    "        if filename.endswith('.txt'):\n",
    "            filepath = os.path.join(labels_dir, filename)\n",
    "            with open(filepath, 'r') as f:\n",
    "                for line in f:\n",
    "                    # Первое число в каждой строке - это класс\n",
    "                    class_id = int(line.strip().split()[0])\n",
    "                    all_labels.append(class_id)\n",
    "    \n",
    "    # Подсчитываем количество каждого класса\n",
    "    class_distribution = Counter(all_labels)\n",
    "    \n",
    "    print(\"Распределение классов:\")\n",
    "    for class_id, count in sorted(class_distribution.items()):\n",
    "        print(f\"Класс {class_id}: {count} образцов ({count/len(all_labels)*100:.2f}%)\")\n",
    "    \n",
    "    print(f\"\\nВсего образцов: {len(all_labels)}\")\n",
    "    print(f\"Количество уникальных классов: {len(class_distribution)}\")\n",
    "    \n",
    "    # Вычисляем дисбаланс\n",
    "    if class_distribution:\n",
    "        max_count = max(class_distribution.values())\n",
    "        min_count = min(class_distribution.values())\n",
    "        print(f\"\\nСоотношение наибольшего класса к наименьшему: {max_count/min_count:.2f}:1\")\n",
    "\n",
    "# Путь к директории с метками\n",
    "labels_dir = 'data/inbreast/train/labels'  # Измените путь на ваш\n",
    "analyze_labels(labels_dir)"
   ]
  }
 ],
 "metadata": {
  "kernelspec": {
   "display_name": "conda-python",
   "language": "python",
   "name": "python3"
  },
  "language_info": {
   "codemirror_mode": {
    "name": "ipython",
    "version": 3
   },
   "file_extension": ".py",
   "mimetype": "text/x-python",
   "name": "python",
   "nbconvert_exporter": "python",
   "pygments_lexer": "ipython3",
   "version": "3.11.8"
  }
 },
 "nbformat": 4,
 "nbformat_minor": 2
}
