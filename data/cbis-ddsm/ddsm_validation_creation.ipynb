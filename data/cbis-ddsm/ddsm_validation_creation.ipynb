{
 "cells": [
  {
   "cell_type": "code",
   "execution_count": 2,
   "metadata": {},
   "outputs": [
    {
     "name": "stdout",
     "output_type": "stream",
     "text": [
      "Created validation set with 175 images\n",
      "Remaining training set: 991 images\n"
     ]
    }
   ],
   "source": [
    "import os\n",
    "import shutil\n",
    "import random\n",
    "from sklearn.model_selection import train_test_split\n",
    "\n",
    "def create_validation_set(train_dir, valid_ratio=0.15):\n",
    "    \"\"\"\n",
    "    Создает validation set из training set\n",
    "    \n",
    "    Args:\n",
    "        train_dir: путь к директории с train данными\n",
    "        valid_ratio: доля данных для validation set\n",
    "    \"\"\"\n",
    "    # Создаем директории для validation set\n",
    "    valid_dir = train_dir.replace('train', 'valid')\n",
    "    os.makedirs(os.path.join(valid_dir, 'images'), exist_ok=True)\n",
    "    os.makedirs(os.path.join(valid_dir, 'labels'), exist_ok=True)\n",
    "    \n",
    "    # Получаем список всех изображений\n",
    "    images = [f for f in os.listdir(os.path.join(train_dir, 'images'))\n",
    "             if f.endswith(('.jpg', '.png')) and '_aug_' not in f]\n",
    "    \n",
    "    # Разделяем на train и validation\n",
    "    train_images, valid_images = train_test_split(\n",
    "        images, test_size=valid_ratio, random_state=42\n",
    "    )\n",
    "    \n",
    "    # Перемещаем файлы в validation директорию\n",
    "    for img_name in valid_images:\n",
    "        # Перемещаем изображение\n",
    "        shutil.move(\n",
    "            os.path.join(train_dir, 'images', img_name),\n",
    "            os.path.join(valid_dir, 'images', img_name)\n",
    "        )\n",
    "        \n",
    "        # Перемещаем соответствующую разметку\n",
    "        label_name = img_name.rsplit('.', 1)[0] + '.txt'\n",
    "        if os.path.exists(os.path.join(train_dir, 'labels', label_name)):\n",
    "            shutil.move(\n",
    "                os.path.join(train_dir, 'labels', label_name),\n",
    "                os.path.join(valid_dir, 'labels', label_name)\n",
    "            )\n",
    "    \n",
    "    print(f\"Created validation set with {len(valid_images)} images\")\n",
    "    print(f\"Remaining training set: {len(train_images)} images\")\n",
    "\n",
    "if __name__ == \"__main__\":\n",
    "    create_validation_set(\"train\")"
   ]
  }
 ],
 "metadata": {
  "kernelspec": {
   "display_name": "conda-python",
   "language": "python",
   "name": "python3"
  },
  "language_info": {
   "codemirror_mode": {
    "name": "ipython",
    "version": 3
   },
   "file_extension": ".py",
   "mimetype": "text/x-python",
   "name": "python",
   "nbconvert_exporter": "python",
   "pygments_lexer": "ipython3",
   "version": "3.11.8"
  }
 },
 "nbformat": 4,
 "nbformat_minor": 2
}
